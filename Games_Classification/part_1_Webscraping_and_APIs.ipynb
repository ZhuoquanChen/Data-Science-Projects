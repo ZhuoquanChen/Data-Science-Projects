{
 "cells": [
  {
   "cell_type": "markdown",
   "metadata": {},
   "source": [
    "# Project 3: Webscraping, APIs, and Natural Language Processing (NLP)"
   ]
  },
  {
   "cell_type": "markdown",
   "metadata": {},
   "source": [
    "## Part 1: Scraping Data From Reddit with APIs\n",
    "\n",
    "In this project I picked up two types of data from reddit for classifying with NLP, which are board games and card games."
   ]
  },
  {
   "cell_type": "code",
   "execution_count": 1,
   "metadata": {},
   "outputs": [],
   "source": [
    "import requests\n",
    "import time\n",
    "import pandas as pd\n",
    "pd.set_option('display.max_columns', None)\n",
    "import numpy as np"
   ]
  },
  {
   "cell_type": "markdown",
   "metadata": {},
   "source": [
    "## 1. Scraping Board Games' Data"
   ]
  },
  {
   "cell_type": "code",
   "execution_count": 2,
   "metadata": {},
   "outputs": [],
   "source": [
    "# get all of toptic posts\n",
    "URL = 'https://api.pushshift.io/reddit/search/submission'"
   ]
  },
  {
   "cell_type": "code",
   "execution_count": 3,
   "metadata": {},
   "outputs": [],
   "source": [
    "# search a specific topic posts\n",
    "params_boardgames = {\n",
    "    'subreddit': 'boardgames',\n",
    "    'size': 100,\n",
    "    'before': 1603002965\n",
    "}"
   ]
  },
  {
   "cell_type": "code",
   "execution_count": 4,
   "metadata": {},
   "outputs": [],
   "source": [
    "res_boardgames = requests.get(URL, params_boardgames)"
   ]
  },
  {
   "cell_type": "code",
   "execution_count": 5,
   "metadata": {},
   "outputs": [
    {
     "data": {
      "text/plain": [
       "200"
      ]
     },
     "execution_count": 5,
     "metadata": {},
     "output_type": "execute_result"
    }
   ],
   "source": [
    "res_boardgames.status_code"
   ]
  },
  {
   "cell_type": "code",
   "execution_count": 6,
   "metadata": {},
   "outputs": [],
   "source": [
    "data_boardgames = res_boardgames.json()"
   ]
  },
  {
   "cell_type": "code",
   "execution_count": 7,
   "metadata": {},
   "outputs": [],
   "source": [
    "board_posts = []\n",
    "\n",
    "for i in range(20):\n",
    "    if res_boardgames.status_code == 200:\n",
    "        board_posts.extend(data_boardgames['data'])\n",
    "        time.sleep(1)"
   ]
  },
  {
   "cell_type": "code",
   "execution_count": 8,
   "metadata": {},
   "outputs": [
    {
     "data": {
      "text/plain": [
       "2000"
      ]
     },
     "execution_count": 8,
     "metadata": {},
     "output_type": "execute_result"
    }
   ],
   "source": [
    "len(board_posts)"
   ]
  },
  {
   "cell_type": "code",
   "execution_count": 10,
   "metadata": {},
   "outputs": [],
   "source": [
    "df_boardgames = pd.DataFrame(board_posts)"
   ]
  },
  {
   "cell_type": "code",
   "execution_count": 11,
   "metadata": {},
   "outputs": [
    {
     "data": {
      "text/plain": [
       "Index(['all_awardings', 'allow_live_comments', 'author',\n",
       "       'author_flair_css_class', 'author_flair_richtext', 'author_flair_text',\n",
       "       'author_flair_type', 'author_fullname', 'author_patreon_flair',\n",
       "       'author_premium', 'awarders', 'can_mod_post', 'contest_mode',\n",
       "       'created_utc', 'domain', 'full_link', 'gildings', 'id',\n",
       "       'is_crosspostable', 'is_meta', 'is_original_content',\n",
       "       'is_reddit_media_domain', 'is_robot_indexable', 'is_self', 'is_video',\n",
       "       'link_flair_background_color', 'link_flair_richtext',\n",
       "       'link_flair_text_color', 'link_flair_type', 'locked', 'media_only',\n",
       "       'no_follow', 'num_comments', 'num_crossposts', 'over_18',\n",
       "       'parent_whitelist_status', 'permalink', 'pinned', 'post_hint',\n",
       "       'preview', 'pwls', 'removed_by_category', 'retrieved_on', 'score',\n",
       "       'selftext', 'send_replies', 'spoiler', 'stickied', 'subreddit',\n",
       "       'subreddit_id', 'subreddit_subscribers', 'subreddit_type', 'thumbnail',\n",
       "       'thumbnail_height', 'thumbnail_width', 'title', 'total_awards_received',\n",
       "       'treatment_tags', 'upvote_ratio', 'url', 'url_overridden_by_dest',\n",
       "       'whitelist_status', 'wls', 'author_flair_template_id',\n",
       "       'author_flair_text_color', 'link_flair_template_id', 'link_flair_text',\n",
       "       'author_flair_background_color', 'distinguished', 'suggested_sort',\n",
       "       'media', 'media_embed', 'secure_media', 'secure_media_embed',\n",
       "       'is_gallery', 'link_flair_css_class', 'author_cakeday',\n",
       "       'crosspost_parent', 'crosspost_parent_list'],\n",
       "      dtype='object')"
      ]
     },
     "execution_count": 11,
     "metadata": {},
     "output_type": "execute_result"
    }
   ],
   "source": [
    "df_boardgames.keys()"
   ]
  },
  {
   "cell_type": "code",
   "execution_count": 12,
   "metadata": {},
   "outputs": [],
   "source": [
    "# extract somes columns\n",
    "boardgames = df_boardgames[['id', 'author', 'selftext', 'title', 'subreddit']]"
   ]
  },
  {
   "cell_type": "code",
   "execution_count": 13,
   "metadata": {},
   "outputs": [
    {
     "data": {
      "text/html": [
       "<div>\n",
       "<style scoped>\n",
       "    .dataframe tbody tr th:only-of-type {\n",
       "        vertical-align: middle;\n",
       "    }\n",
       "\n",
       "    .dataframe tbody tr th {\n",
       "        vertical-align: top;\n",
       "    }\n",
       "\n",
       "    .dataframe thead th {\n",
       "        text-align: right;\n",
       "    }\n",
       "</style>\n",
       "<table border=\"1\" class=\"dataframe\">\n",
       "  <thead>\n",
       "    <tr style=\"text-align: right;\">\n",
       "      <th></th>\n",
       "      <th>id</th>\n",
       "      <th>author</th>\n",
       "      <th>selftext</th>\n",
       "      <th>title</th>\n",
       "      <th>subreddit</th>\n",
       "    </tr>\n",
       "  </thead>\n",
       "  <tbody>\n",
       "    <tr>\n",
       "      <th>0</th>\n",
       "      <td>jdb4vs</td>\n",
       "      <td>StayAwhileandList-n</td>\n",
       "      <td></td>\n",
       "      <td>Our group's game stash for our 4 day weekend!</td>\n",
       "      <td>boardgames</td>\n",
       "    </tr>\n",
       "    <tr>\n",
       "      <th>1</th>\n",
       "      <td>jdat35</td>\n",
       "      <td>cybershocker455</td>\n",
       "      <td></td>\n",
       "      <td>How to Win Against Any Board Game Geek | One P...</td>\n",
       "      <td>boardgames</td>\n",
       "    </tr>\n",
       "    <tr>\n",
       "      <th>2</th>\n",
       "      <td>jdafqp</td>\n",
       "      <td>the-postminimalist</td>\n",
       "      <td>Mostly looking for uncommon settings. Europe, ...</td>\n",
       "      <td>I loved Pax Pamir's informed depiction of an u...</td>\n",
       "      <td>boardgames</td>\n",
       "    </tr>\n",
       "    <tr>\n",
       "      <th>3</th>\n",
       "      <td>jdacfk</td>\n",
       "      <td>AutoModerator</td>\n",
       "      <td>**Welcome to /r/boardgames Daily Discussion an...</td>\n",
       "      <td>/r/boardgames Daily Discussion and Game Recomm...</td>\n",
       "      <td>boardgames</td>\n",
       "    </tr>\n",
       "    <tr>\n",
       "      <th>4</th>\n",
       "      <td>jdaa7f</td>\n",
       "      <td>bethcabforcutie</td>\n",
       "      <td>None of my family or friends seem to remember ...</td>\n",
       "      <td>Does anyone remember this 80’s/90’s game?</td>\n",
       "      <td>boardgames</td>\n",
       "    </tr>\n",
       "  </tbody>\n",
       "</table>\n",
       "</div>"
      ],
      "text/plain": [
       "       id               author  \\\n",
       "0  jdb4vs  StayAwhileandList-n   \n",
       "1  jdat35      cybershocker455   \n",
       "2  jdafqp   the-postminimalist   \n",
       "3  jdacfk        AutoModerator   \n",
       "4  jdaa7f      bethcabforcutie   \n",
       "\n",
       "                                            selftext  \\\n",
       "0                                                      \n",
       "1                                                      \n",
       "2  Mostly looking for uncommon settings. Europe, ...   \n",
       "3  **Welcome to /r/boardgames Daily Discussion an...   \n",
       "4  None of my family or friends seem to remember ...   \n",
       "\n",
       "                                               title   subreddit  \n",
       "0      Our group's game stash for our 4 day weekend!  boardgames  \n",
       "1  How to Win Against Any Board Game Geek | One P...  boardgames  \n",
       "2  I loved Pax Pamir's informed depiction of an u...  boardgames  \n",
       "3  /r/boardgames Daily Discussion and Game Recomm...  boardgames  \n",
       "4          Does anyone remember this 80’s/90’s game?  boardgames  "
      ]
     },
     "execution_count": 13,
     "metadata": {},
     "output_type": "execute_result"
    }
   ],
   "source": [
    "boardgames.head()"
   ]
  },
  {
   "cell_type": "markdown",
   "metadata": {},
   "source": [
    "## 2. Scraping Card Games' Data"
   ]
  },
  {
   "cell_type": "code",
   "execution_count": 14,
   "metadata": {},
   "outputs": [],
   "source": [
    "# get all of toptic posts\n",
    "URL = 'https://api.pushshift.io/reddit/search/submission'"
   ]
  },
  {
   "cell_type": "code",
   "execution_count": 15,
   "metadata": {},
   "outputs": [],
   "source": [
    "# search a specific topic posts\n",
    "params_cardgames = {\n",
    "        'subreddit': 'cardgames',\n",
    "        'before': 1510065136\n",
    "}"
   ]
  },
  {
   "cell_type": "code",
   "execution_count": 16,
   "metadata": {},
   "outputs": [],
   "source": [
    "res_cardgames = requests.get(URL, params_cardgames)"
   ]
  },
  {
   "cell_type": "code",
   "execution_count": 17,
   "metadata": {},
   "outputs": [
    {
     "data": {
      "text/plain": [
       "200"
      ]
     },
     "execution_count": 17,
     "metadata": {},
     "output_type": "execute_result"
    }
   ],
   "source": [
    "res_cardgames.status_code"
   ]
  },
  {
   "cell_type": "code",
   "execution_count": 18,
   "metadata": {},
   "outputs": [],
   "source": [
    "data_cardgames = res_cardgames.json()"
   ]
  },
  {
   "cell_type": "code",
   "execution_count": 19,
   "metadata": {},
   "outputs": [],
   "source": [
    "# data_cargames['data']"
   ]
  },
  {
   "cell_type": "code",
   "execution_count": 20,
   "metadata": {},
   "outputs": [],
   "source": [
    "card_posts = []\n",
    "\n",
    "for i in range(80):\n",
    "    if res_cardgames.status_code == 200:\n",
    "        card_posts.extend(data_cardgames['data'])\n",
    "        time.sleep(1)"
   ]
  },
  {
   "cell_type": "code",
   "execution_count": 21,
   "metadata": {},
   "outputs": [
    {
     "data": {
      "text/plain": [
       "2000"
      ]
     },
     "execution_count": 21,
     "metadata": {},
     "output_type": "execute_result"
    }
   ],
   "source": [
    "len(card_posts)"
   ]
  },
  {
   "cell_type": "code",
   "execution_count": 22,
   "metadata": {},
   "outputs": [],
   "source": [
    "df_cardgames = pd.DataFrame(card_posts)"
   ]
  },
  {
   "cell_type": "code",
   "execution_count": 23,
   "metadata": {},
   "outputs": [],
   "source": [
    "# extract somes columns\n",
    "cardgames = df_cardgames[['id', 'author', 'selftext', 'title', 'subreddit']]"
   ]
  },
  {
   "cell_type": "code",
   "execution_count": 24,
   "metadata": {},
   "outputs": [
    {
     "data": {
      "text/html": [
       "<div>\n",
       "<style scoped>\n",
       "    .dataframe tbody tr th:only-of-type {\n",
       "        vertical-align: middle;\n",
       "    }\n",
       "\n",
       "    .dataframe tbody tr th {\n",
       "        vertical-align: top;\n",
       "    }\n",
       "\n",
       "    .dataframe thead th {\n",
       "        text-align: right;\n",
       "    }\n",
       "</style>\n",
       "<table border=\"1\" class=\"dataframe\">\n",
       "  <thead>\n",
       "    <tr style=\"text-align: right;\">\n",
       "      <th></th>\n",
       "      <th>id</th>\n",
       "      <th>author</th>\n",
       "      <th>selftext</th>\n",
       "      <th>title</th>\n",
       "      <th>subreddit</th>\n",
       "    </tr>\n",
       "  </thead>\n",
       "  <tbody>\n",
       "    <tr>\n",
       "      <th>0</th>\n",
       "      <td>7b2bdk</td>\n",
       "      <td>Scorpinock</td>\n",
       "      <td></td>\n",
       "      <td>The final version of my card game is now avail...</td>\n",
       "      <td>cardgames</td>\n",
       "    </tr>\n",
       "    <tr>\n",
       "      <th>1</th>\n",
       "      <td>7b1lp9</td>\n",
       "      <td>2ndshot</td>\n",
       "      <td>Bidding Game\\n\\nSetup\\n\\nDeal each player 25 t...</td>\n",
       "      <td>Bidding Game</td>\n",
       "      <td>cardgames</td>\n",
       "    </tr>\n",
       "    <tr>\n",
       "      <th>2</th>\n",
       "      <td>7ayeig</td>\n",
       "      <td>Tylerjsmall09</td>\n",
       "      <td>Hey guys! I'm new to Reddit, and I joined spec...</td>\n",
       "      <td>Need help with funny card game title!</td>\n",
       "      <td>cardgames</td>\n",
       "    </tr>\n",
       "    <tr>\n",
       "      <th>3</th>\n",
       "      <td>7awtpn</td>\n",
       "      <td>cherchak4</td>\n",
       "      <td>I am going to thailand and want to bring some ...</td>\n",
       "      <td>Help! Which games to bring backpacking?</td>\n",
       "      <td>cardgames</td>\n",
       "    </tr>\n",
       "    <tr>\n",
       "      <th>4</th>\n",
       "      <td>7auhsy</td>\n",
       "      <td>Le_Codex14</td>\n",
       "      <td>Hi, this is my first post on this subreddit. I...</td>\n",
       "      <td>Created a card game in 10 minutes called Karma</td>\n",
       "      <td>cardgames</td>\n",
       "    </tr>\n",
       "  </tbody>\n",
       "</table>\n",
       "</div>"
      ],
      "text/plain": [
       "       id         author                                           selftext  \\\n",
       "0  7b2bdk     Scorpinock                                                      \n",
       "1  7b1lp9        2ndshot  Bidding Game\\n\\nSetup\\n\\nDeal each player 25 t...   \n",
       "2  7ayeig  Tylerjsmall09  Hey guys! I'm new to Reddit, and I joined spec...   \n",
       "3  7awtpn      cherchak4  I am going to thailand and want to bring some ...   \n",
       "4  7auhsy     Le_Codex14  Hi, this is my first post on this subreddit. I...   \n",
       "\n",
       "                                               title  subreddit  \n",
       "0  The final version of my card game is now avail...  cardgames  \n",
       "1                                       Bidding Game  cardgames  \n",
       "2              Need help with funny card game title!  cardgames  \n",
       "3            Help! Which games to bring backpacking?  cardgames  \n",
       "4     Created a card game in 10 minutes called Karma  cardgames  "
      ]
     },
     "execution_count": 24,
     "metadata": {},
     "output_type": "execute_result"
    }
   ],
   "source": [
    "cardgames.head()"
   ]
  },
  {
   "cell_type": "markdown",
   "metadata": {},
   "source": [
    "## 3. Pre-Processing"
   ]
  },
  {
   "cell_type": "markdown",
   "metadata": {},
   "source": [
    "### Concatenated two DataFrames"
   ]
  },
  {
   "cell_type": "code",
   "execution_count": 25,
   "metadata": {},
   "outputs": [],
   "source": [
    "data = boardgames.append(cardgames, ignore_index=True, sort=False)"
   ]
  },
  {
   "cell_type": "code",
   "execution_count": 26,
   "metadata": {},
   "outputs": [
    {
     "data": {
      "text/html": [
       "<div>\n",
       "<style scoped>\n",
       "    .dataframe tbody tr th:only-of-type {\n",
       "        vertical-align: middle;\n",
       "    }\n",
       "\n",
       "    .dataframe tbody tr th {\n",
       "        vertical-align: top;\n",
       "    }\n",
       "\n",
       "    .dataframe thead th {\n",
       "        text-align: right;\n",
       "    }\n",
       "</style>\n",
       "<table border=\"1\" class=\"dataframe\">\n",
       "  <thead>\n",
       "    <tr style=\"text-align: right;\">\n",
       "      <th></th>\n",
       "      <th>id</th>\n",
       "      <th>author</th>\n",
       "      <th>selftext</th>\n",
       "      <th>title</th>\n",
       "      <th>subreddit</th>\n",
       "    </tr>\n",
       "  </thead>\n",
       "  <tbody>\n",
       "    <tr>\n",
       "      <th>0</th>\n",
       "      <td>jdb4vs</td>\n",
       "      <td>StayAwhileandList-n</td>\n",
       "      <td></td>\n",
       "      <td>Our group's game stash for our 4 day weekend!</td>\n",
       "      <td>boardgames</td>\n",
       "    </tr>\n",
       "    <tr>\n",
       "      <th>1</th>\n",
       "      <td>jdat35</td>\n",
       "      <td>cybershocker455</td>\n",
       "      <td></td>\n",
       "      <td>How to Win Against Any Board Game Geek | One P...</td>\n",
       "      <td>boardgames</td>\n",
       "    </tr>\n",
       "    <tr>\n",
       "      <th>2</th>\n",
       "      <td>jdafqp</td>\n",
       "      <td>the-postminimalist</td>\n",
       "      <td>Mostly looking for uncommon settings. Europe, ...</td>\n",
       "      <td>I loved Pax Pamir's informed depiction of an u...</td>\n",
       "      <td>boardgames</td>\n",
       "    </tr>\n",
       "    <tr>\n",
       "      <th>3</th>\n",
       "      <td>jdacfk</td>\n",
       "      <td>AutoModerator</td>\n",
       "      <td>**Welcome to /r/boardgames Daily Discussion an...</td>\n",
       "      <td>/r/boardgames Daily Discussion and Game Recomm...</td>\n",
       "      <td>boardgames</td>\n",
       "    </tr>\n",
       "    <tr>\n",
       "      <th>4</th>\n",
       "      <td>jdaa7f</td>\n",
       "      <td>bethcabforcutie</td>\n",
       "      <td>None of my family or friends seem to remember ...</td>\n",
       "      <td>Does anyone remember this 80’s/90’s game?</td>\n",
       "      <td>boardgames</td>\n",
       "    </tr>\n",
       "    <tr>\n",
       "      <th>...</th>\n",
       "      <td>...</td>\n",
       "      <td>...</td>\n",
       "      <td>...</td>\n",
       "      <td>...</td>\n",
       "      <td>...</td>\n",
       "    </tr>\n",
       "    <tr>\n",
       "      <th>3995</th>\n",
       "      <td>78d1zn</td>\n",
       "      <td>EnvyMe__</td>\n",
       "      <td></td>\n",
       "      <td>Beyblade card game anyone?</td>\n",
       "      <td>cardgames</td>\n",
       "    </tr>\n",
       "    <tr>\n",
       "      <th>3996</th>\n",
       "      <td>786uwa</td>\n",
       "      <td>JulieMaddon95</td>\n",
       "      <td></td>\n",
       "      <td>Play Roulette online</td>\n",
       "      <td>cardgames</td>\n",
       "    </tr>\n",
       "    <tr>\n",
       "      <th>3997</th>\n",
       "      <td>77zy6k</td>\n",
       "      <td>sbobet9</td>\n",
       "      <td></td>\n",
       "      <td>play baccarat - เล่นบาคาร่า - Thailand</td>\n",
       "      <td>cardgames</td>\n",
       "    </tr>\n",
       "    <tr>\n",
       "      <th>3998</th>\n",
       "      <td>77tfjf</td>\n",
       "      <td>dollypolly666</td>\n",
       "      <td></td>\n",
       "      <td>Bonus Malam Minggu Hanya di Kartuking Sebesar ...</td>\n",
       "      <td>cardgames</td>\n",
       "    </tr>\n",
       "    <tr>\n",
       "      <th>3999</th>\n",
       "      <td>77szhu</td>\n",
       "      <td>dxiie8080</td>\n",
       "      <td></td>\n",
       "      <td>Judi poker online terpercaya. Langkah jitu men...</td>\n",
       "      <td>cardgames</td>\n",
       "    </tr>\n",
       "  </tbody>\n",
       "</table>\n",
       "<p>4000 rows × 5 columns</p>\n",
       "</div>"
      ],
      "text/plain": [
       "          id               author  \\\n",
       "0     jdb4vs  StayAwhileandList-n   \n",
       "1     jdat35      cybershocker455   \n",
       "2     jdafqp   the-postminimalist   \n",
       "3     jdacfk        AutoModerator   \n",
       "4     jdaa7f      bethcabforcutie   \n",
       "...      ...                  ...   \n",
       "3995  78d1zn             EnvyMe__   \n",
       "3996  786uwa        JulieMaddon95   \n",
       "3997  77zy6k              sbobet9   \n",
       "3998  77tfjf        dollypolly666   \n",
       "3999  77szhu            dxiie8080   \n",
       "\n",
       "                                               selftext  \\\n",
       "0                                                         \n",
       "1                                                         \n",
       "2     Mostly looking for uncommon settings. Europe, ...   \n",
       "3     **Welcome to /r/boardgames Daily Discussion an...   \n",
       "4     None of my family or friends seem to remember ...   \n",
       "...                                                 ...   \n",
       "3995                                                      \n",
       "3996                                                      \n",
       "3997                                                      \n",
       "3998                                                      \n",
       "3999                                                      \n",
       "\n",
       "                                                  title   subreddit  \n",
       "0         Our group's game stash for our 4 day weekend!  boardgames  \n",
       "1     How to Win Against Any Board Game Geek | One P...  boardgames  \n",
       "2     I loved Pax Pamir's informed depiction of an u...  boardgames  \n",
       "3     /r/boardgames Daily Discussion and Game Recomm...  boardgames  \n",
       "4             Does anyone remember this 80’s/90’s game?  boardgames  \n",
       "...                                                 ...         ...  \n",
       "3995                         Beyblade card game anyone?   cardgames  \n",
       "3996                               Play Roulette online   cardgames  \n",
       "3997             play baccarat - เล่นบาคาร่า - Thailand   cardgames  \n",
       "3998  Bonus Malam Minggu Hanya di Kartuking Sebesar ...   cardgames  \n",
       "3999  Judi poker online terpercaya. Langkah jitu men...   cardgames  \n",
       "\n",
       "[4000 rows x 5 columns]"
      ]
     },
     "execution_count": 26,
     "metadata": {},
     "output_type": "execute_result"
    }
   ],
   "source": [
    "data"
   ]
  },
  {
   "cell_type": "markdown",
   "metadata": {},
   "source": [
    "### Convert target column to bianry value"
   ]
  },
  {
   "cell_type": "code",
   "execution_count": 27,
   "metadata": {},
   "outputs": [],
   "source": [
    "data['subreddit'] = data['subreddit'].map({'boardgames': 0, 'cardgames': 1})"
   ]
  },
  {
   "cell_type": "markdown",
   "metadata": {},
   "source": [
    "### Shuffle Data"
   ]
  },
  {
   "cell_type": "code",
   "execution_count": 28,
   "metadata": {},
   "outputs": [],
   "source": [
    "data = data.sample(frac=1).reset_index(drop=True)"
   ]
  },
  {
   "cell_type": "code",
   "execution_count": 29,
   "metadata": {},
   "outputs": [
    {
     "data": {
      "text/html": [
       "<div>\n",
       "<style scoped>\n",
       "    .dataframe tbody tr th:only-of-type {\n",
       "        vertical-align: middle;\n",
       "    }\n",
       "\n",
       "    .dataframe tbody tr th {\n",
       "        vertical-align: top;\n",
       "    }\n",
       "\n",
       "    .dataframe thead th {\n",
       "        text-align: right;\n",
       "    }\n",
       "</style>\n",
       "<table border=\"1\" class=\"dataframe\">\n",
       "  <thead>\n",
       "    <tr style=\"text-align: right;\">\n",
       "      <th></th>\n",
       "      <th>id</th>\n",
       "      <th>author</th>\n",
       "      <th>selftext</th>\n",
       "      <th>title</th>\n",
       "      <th>subreddit</th>\n",
       "    </tr>\n",
       "  </thead>\n",
       "  <tbody>\n",
       "    <tr>\n",
       "      <th>0</th>\n",
       "      <td>jcepuk</td>\n",
       "      <td>smarter_than_an_oreo</td>\n",
       "      <td></td>\n",
       "      <td>I made an Oxygen, Heat, and Generation marker ...</td>\n",
       "      <td>0</td>\n",
       "    </tr>\n",
       "    <tr>\n",
       "      <th>1</th>\n",
       "      <td>7ayeig</td>\n",
       "      <td>Tylerjsmall09</td>\n",
       "      <td>Hey guys! I'm new to Reddit, and I joined spec...</td>\n",
       "      <td>Need help with funny card game title!</td>\n",
       "      <td>1</td>\n",
       "    </tr>\n",
       "    <tr>\n",
       "      <th>2</th>\n",
       "      <td>7a9boe</td>\n",
       "      <td>SleepyPanda_1945</td>\n",
       "      <td></td>\n",
       "      <td>[Monster Cry Eternal] Fantasy CCG for Mobile.</td>\n",
       "      <td>1</td>\n",
       "    </tr>\n",
       "    <tr>\n",
       "      <th>3</th>\n",
       "      <td>jco7ut</td>\n",
       "      <td>Squirrelhenge</td>\n",
       "      <td>I've been out of my apartment for 7 months bec...</td>\n",
       "      <td>My stuff just got moved back in to my apartmen...</td>\n",
       "      <td>0</td>\n",
       "    </tr>\n",
       "    <tr>\n",
       "      <th>4</th>\n",
       "      <td>jd2wz0</td>\n",
       "      <td>backhandle1982</td>\n",
       "      <td>Is anyone able to give me some tips on how to ...</td>\n",
       "      <td>Tips for 3 card solitaire</td>\n",
       "      <td>0</td>\n",
       "    </tr>\n",
       "    <tr>\n",
       "      <th>...</th>\n",
       "      <td>...</td>\n",
       "      <td>...</td>\n",
       "      <td>...</td>\n",
       "      <td>...</td>\n",
       "      <td>...</td>\n",
       "    </tr>\n",
       "    <tr>\n",
       "      <th>3995</th>\n",
       "      <td>7b2bdk</td>\n",
       "      <td>Scorpinock</td>\n",
       "      <td></td>\n",
       "      <td>The final version of my card game is now avail...</td>\n",
       "      <td>1</td>\n",
       "    </tr>\n",
       "    <tr>\n",
       "      <th>3996</th>\n",
       "      <td>jck6zp</td>\n",
       "      <td>PearlsofRon</td>\n",
       "      <td>I'm contemplating picking this one up, but I w...</td>\n",
       "      <td>Anyone play Trudvang Legends?</td>\n",
       "      <td>0</td>\n",
       "    </tr>\n",
       "    <tr>\n",
       "      <th>3997</th>\n",
       "      <td>7939no</td>\n",
       "      <td>onlinerummyindia</td>\n",
       "      <td></td>\n",
       "      <td>Ace2Three Paytm Offer</td>\n",
       "      <td>1</td>\n",
       "    </tr>\n",
       "    <tr>\n",
       "      <th>3998</th>\n",
       "      <td>jcp3i8</td>\n",
       "      <td>randallion</td>\n",
       "      <td>Which means that I don't really play board gam...</td>\n",
       "      <td>My wife does not consider board games a way to...</td>\n",
       "      <td>0</td>\n",
       "    </tr>\n",
       "    <tr>\n",
       "      <th>3999</th>\n",
       "      <td>jcppl2</td>\n",
       "      <td>Squirrelhenge</td>\n",
       "      <td>I hadn't played 7 Wonders Duel before it arriv...</td>\n",
       "      <td>Is 7 Wonders Duel too luck-dependent?</td>\n",
       "      <td>0</td>\n",
       "    </tr>\n",
       "  </tbody>\n",
       "</table>\n",
       "<p>4000 rows × 5 columns</p>\n",
       "</div>"
      ],
      "text/plain": [
       "          id                author  \\\n",
       "0     jcepuk  smarter_than_an_oreo   \n",
       "1     7ayeig         Tylerjsmall09   \n",
       "2     7a9boe      SleepyPanda_1945   \n",
       "3     jco7ut         Squirrelhenge   \n",
       "4     jd2wz0        backhandle1982   \n",
       "...      ...                   ...   \n",
       "3995  7b2bdk            Scorpinock   \n",
       "3996  jck6zp           PearlsofRon   \n",
       "3997  7939no      onlinerummyindia   \n",
       "3998  jcp3i8            randallion   \n",
       "3999  jcppl2         Squirrelhenge   \n",
       "\n",
       "                                               selftext  \\\n",
       "0                                                         \n",
       "1     Hey guys! I'm new to Reddit, and I joined spec...   \n",
       "2                                                         \n",
       "3     I've been out of my apartment for 7 months bec...   \n",
       "4     Is anyone able to give me some tips on how to ...   \n",
       "...                                                 ...   \n",
       "3995                                                      \n",
       "3996  I'm contemplating picking this one up, but I w...   \n",
       "3997                                                      \n",
       "3998  Which means that I don't really play board gam...   \n",
       "3999  I hadn't played 7 Wonders Duel before it arriv...   \n",
       "\n",
       "                                                  title  subreddit  \n",
       "0     I made an Oxygen, Heat, and Generation marker ...          0  \n",
       "1                 Need help with funny card game title!          1  \n",
       "2         [Monster Cry Eternal] Fantasy CCG for Mobile.          1  \n",
       "3     My stuff just got moved back in to my apartmen...          0  \n",
       "4                             Tips for 3 card solitaire          0  \n",
       "...                                                 ...        ...  \n",
       "3995  The final version of my card game is now avail...          1  \n",
       "3996                      Anyone play Trudvang Legends?          0  \n",
       "3997                              Ace2Three Paytm Offer          1  \n",
       "3998  My wife does not consider board games a way to...          0  \n",
       "3999              Is 7 Wonders Duel too luck-dependent?          0  \n",
       "\n",
       "[4000 rows x 5 columns]"
      ]
     },
     "execution_count": 29,
     "metadata": {},
     "output_type": "execute_result"
    }
   ],
   "source": [
    "data"
   ]
  },
  {
   "cell_type": "markdown",
   "metadata": {},
   "source": [
    "## 4. Exported the Final DataFrame"
   ]
  },
  {
   "cell_type": "code",
   "execution_count": 30,
   "metadata": {},
   "outputs": [],
   "source": [
    "data.to_csv('./data/boardgames_and_cardgames.csv', index=False)"
   ]
  }
 ],
 "metadata": {
  "kernelspec": {
   "display_name": "Python 3",
   "language": "python",
   "name": "python3"
  },
  "language_info": {
   "codemirror_mode": {
    "name": "ipython",
    "version": 3
   },
   "file_extension": ".py",
   "mimetype": "text/x-python",
   "name": "python",
   "nbconvert_exporter": "python",
   "pygments_lexer": "ipython3",
   "version": "3.7.9"
  }
 },
 "nbformat": 4,
 "nbformat_minor": 4
}
